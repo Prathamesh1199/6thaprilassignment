{
 "cells": [
  {
   "cell_type": "code",
   "execution_count": null,
   "id": "354e8bdd-4f90-4fa9-b654-360b347d314b",
   "metadata": {},
   "outputs": [],
   "source": [
    "1:\n",
    "  The mathematical formula for a linear SVM can be written as:\n",
    "           f(x) = sign(w^T x + b)\n",
    "\n",
    "where w is the weight vector, x is the input vector, b is the bias term, and sign() is the sign function that returns -1 or 1 depending\n",
    "on the sign of its argument. The goal of the SVM is to find the optimal values of w and b such that the decision boundary separates the \n",
    "classes with the maximum margin.  "
   ]
  },
  {
   "cell_type": "code",
   "execution_count": null,
   "id": "cdfac717-9e74-40c0-8e98-83688dd0c809",
   "metadata": {},
   "outputs": [],
   "source": []
  },
  {
   "cell_type": "code",
   "execution_count": null,
   "id": "9e237b45-310f-4526-8d7f-3dbc29ba9c58",
   "metadata": {},
   "outputs": [],
   "source": [
    "2:\n",
    "  The objective function of a linear SVM is to find the hyperplane that maximizes the margin\n",
    "between the two classes. The margin is the distance between the hyperplane and the closest data\n",
    "points from each class. The objective function of a linear SVM is to maximize the margin while\n",
    "minimizing the classification error. The objective function can be written as:\n",
    "\n",
    "    minimize 1/2 ||w||^2\n",
    "subject to y_i(w^T x_i + b) >= 1, for i = 1,2,...,n\n",
    "\n",
    "where w is the weight vector, b is the bias term, x_i is the i-th data point, y_i is the \n",
    "class label of x_i, and n is the number of data points. The first term in the objective function\n",
    "is the regularization term that penalizes large values of w, and the second term is the constraint\n",
    "that enforces the margin to be at least 1 for all data points."
   ]
  },
  {
   "cell_type": "code",
   "execution_count": null,
   "id": "7192fd1f-02b9-4b15-9ed0-6675fddfbf9b",
   "metadata": {},
   "outputs": [],
   "source": []
  },
  {
   "cell_type": "code",
   "execution_count": null,
   "id": "daf83e84-52a1-4f2c-9e0f-65411880db7d",
   "metadata": {},
   "outputs": [],
   "source": [
    "3:\n",
    "   The kernel trick is a technique used in SVMs to transform the input data from a low-dimensional\n",
    "space to a high-dimensional space without actually computing the transformation explicitly. The kernel\n",
    "function calculates the dot product between the transformed feature vectors in the high-dimensional \n",
    "space, which is equivalent to computing the inner product between the original feature vectors in the\n",
    "low-dimensional space.\n",
    "The kernel function allows SVMs to handle non-linearly separable data by implicitly mapping the input\n",
    "data to a higher-dimensional feature space where it may be linearly separable. This makes it possible\n",
    "to use linear SVMs to classify non-linear data by using a kernel function to transform the input data \n",
    "into a higher-dimensional space.\n",
    "\n",
    "The most commonly used kernel functions in SVMs are:\n",
    "\n",
    "Linear kernel:\n",
    "K(x, y) = x^T y\n",
    "\n",
    "Polynomial kernel:\n",
    "K(x, y) = (x^T y + c)^d\n",
    "\n",
    "Gaussian (or Radial Basis Function) kernel:\n",
    "K(x, y) = exp(-gamma ||x-y||^2)\n",
    "\n",
    "Using the kernel trick, SVMs can handle complex, non-linear decision boundaries and achieve high accuracy\n",
    "on a wide range of classification problems. "
   ]
  },
  {
   "cell_type": "code",
   "execution_count": null,
   "id": "b9e0f17d-197d-4b1d-8148-c8dadda95353",
   "metadata": {},
   "outputs": [],
   "source": []
  },
  {
   "cell_type": "code",
   "execution_count": null,
   "id": "22cb9f7f-d00f-4bfb-a204-cfa144f0fe21",
   "metadata": {},
   "outputs": [],
   "source": [
    "4:\n",
    "   support vectors are the data points that determine the decision boundary in a Support Vector \n",
    "Machine (SVM) algorithm. These points are the closest to the decision boundary and play a crucial \n",
    "role in finding the hyperplane with maximum margin. The hyperplane with maximum margin is the one \n",
    "that can accurately classify new data. Therefore, support vectors help in accurate classification\n",
    "of data by determining the decision boundary in SVM.\n",
    "\n",
    "For example, let's consider a binary classification problem with two classes, \"A\" and \"B\". We\n",
    "have a dataset consisting of 10 data points, 5 belonging to class A and 5 belonging to class B. \n",
    "The SVM algorithm tries to find the hyperplane that can separate the two classes.\n",
    "\n",
    "After applying the SVM algorithm, we get the decision boundary \n",
    "In this example, the support vectors are the three data points closest to the decision boundary. \n",
    "These points are highlighted with a larger size and are labeled as SV1, SV2, and SV3. The hyperplane\n",
    "is determined based on the position of these support vectors, and the margin is calculated as the distance\n",
    "between the decision boundary and the closest support vectors of each class.\n",
    "\n",
    "Thus, the role of support vectors is crucial in the SVM algorithm as they help in determining\n",
    "the optimal hyperplane and margin, which is used for classification of new data points.\n",
    "\n",
    "\n",
    "\n"
   ]
  },
  {
   "cell_type": "code",
   "execution_count": null,
   "id": "3cb431c5-1841-4c9a-88da-98bf669bde0f",
   "metadata": {},
   "outputs": [],
   "source": []
  },
  {
   "cell_type": "code",
   "execution_count": null,
   "id": "3b6ee823-76dd-4389-821f-08b17e7c2b59",
   "metadata": {},
   "outputs": [],
   "source": [
    "5:\n",
    "\n",
    "1.\n",
    "Hyperplane: A hyperplane is a decision boundary that separates the data points into different\n",
    "classes in SVM. In a two-dimensional space, a hyperplane is a line that separates the data points\n",
    "into two classes. In a three-dimensional space, a hyperplane is a plane that separates the data points\n",
    "into two classes. In higher dimensions, a hyperplane is a hyperplane that separates the data points into two classes.\n",
    "2.\n",
    "Marginal plane: A marginal plane is the plane that is equidistant from the two hyperplanes in SVM. The two\n",
    "hyperplanes are the decision boundaries that separate the data points into two classes. The marginal plane\n",
    "is the plane that is equidistant from the two hyperplanes and passes through the support vectors.\n",
    "3.\n",
    "Soft margin: Soft margin is a technique used in SVM when the data is not linearly separable. In soft margin,\n",
    "a small amount of error is allowed, and some data points can be misclassified. The soft margin allows some data\n",
    "points to be on the wrong side of the decision boundary, but it tries to minimize the number of misclassified points.\n",
    "4.\n",
    "Hard margin: Hard margin is a technique used in SVM when the data is linearly separable. In hard margin, no error \n",
    "is allowed, and all data points must be correctly classified. The hard margin tries to find the hyperplane that \n",
    "separates the data points into two classes without any error.\n",
    "\n",
    "For example, consider a dataset with two classes, red and blue. If the data is linearly separable, we can use hard \n",
    "margin SVM to find the hyperplane that separates the two classes without any error. However, if the data is not \n",
    "linearly separable, we can use soft margin SVM to find the hyperplane that separates the two classes while allowing some error.\n",
    "\n",
    "In conclusion, the concepts of hyperplane, marginal plane, soft margin, and hard margin are essential in SVM, as they\n",
    "help in accurate classification of data.  "
   ]
  },
  {
   "cell_type": "code",
   "execution_count": null,
   "id": "8deb569f-a710-415b-aadd-43c3e74dc072",
   "metadata": {},
   "outputs": [],
   "source": []
  },
  {
   "cell_type": "code",
   "execution_count": null,
   "id": "c0c9642c-a751-4aa8-ae0a-2f3ecb021dc9",
   "metadata": {},
   "outputs": [],
   "source": [
    "6:\n",
    " SVM Implementation through Iris dataset."
   ]
  },
  {
   "cell_type": "code",
   "execution_count": 1,
   "id": "2d6b5140-cd38-4594-8428-2d126743d12b",
   "metadata": {},
   "outputs": [],
   "source": [
    "from sklearn.datasets import load_iris\n",
    "from sklearn.model_selection import train_test_split\n",
    "from sklearn.svm import SVC\n",
    "import numpy as np\n",
    "import matplotlib.pyplot as plt\n",
    "iris = load_iris()\n",
    "X = iris.data[:, :2]  # We will use only the first two features for plotting decision boundaries\n",
    "y = iris.target\n",
    "\n"
   ]
  },
  {
   "cell_type": "code",
   "execution_count": null,
   "id": "fb4d02cd-5f61-4a23-a3db-1133147565ae",
   "metadata": {},
   "outputs": [],
   "source": [
    "#'split the dataset into a training set and a testing set:"
   ]
  },
  {
   "cell_type": "code",
   "execution_count": 2,
   "id": "35152053-fe52-46b5-aaef-65daa9336385",
   "metadata": {},
   "outputs": [],
   "source": [
    "X_train, X_test, y_train, y_test = train_test_split(X, y, test_size=0.2, random_state=42)"
   ]
  },
  {
   "cell_type": "code",
   "execution_count": null,
   "id": "904daa95-00e9-4cd3-b0f8-dac205632c02",
   "metadata": {},
   "outputs": [],
   "source": [
    "#Now, we can train a linear SVM classifier on the training set and predict the labels for the testing set:"
   ]
  },
  {
   "cell_type": "code",
   "execution_count": 3,
   "id": "f358be8d-d37b-4752-b4b3-cb229a01b800",
   "metadata": {},
   "outputs": [],
   "source": [
    "svm_clf = SVC(kernel=\"linear\", C=1)\n",
    "svm_clf.fit(X_train, y_train)\n",
    "y_pred = svm_clf.predict(X_test)"
   ]
  },
  {
   "cell_type": "code",
   "execution_count": null,
   "id": "4e76122a-1c20-4b05-b6b6-6a07b68c8197",
   "metadata": {},
   "outputs": [],
   "source": [
    "#We can compute the accuracy of the model on the testing set using the accuracy_score function from scikit-learn:"
   ]
  },
  {
   "cell_type": "code",
   "execution_count": 4,
   "id": "241505ab-1024-463b-a385-0a6070f82fa8",
   "metadata": {},
   "outputs": [
    {
     "name": "stdout",
     "output_type": "stream",
     "text": [
      "Accuracy: 0.9\n"
     ]
    }
   ],
   "source": [
    "from sklearn.metrics import accuracy_score\n",
    "accuracy = accuracy_score(y_test, y_pred)\n",
    "print(\"Accuracy:\", accuracy)"
   ]
  },
  {
   "cell_type": "code",
   "execution_count": null,
   "id": "84cec2c7-70ab-4e89-bad7-fd8544da3572",
   "metadata": {},
   "outputs": [],
   "source": [
    "#To plot the decision boundaries of the trained model using the first two features, "
   ]
  },
  {
   "cell_type": "code",
   "execution_count": 5,
   "id": "9d617974-8cc0-428b-8c0f-a35a5ee3464d",
   "metadata": {},
   "outputs": [
    {
     "data": {
      "image/png": "[encoded data removed]",
      "text/plain": [
       "<Figure size 640x480 with 1 Axes>"
      ]
     },
     "metadata": {},
     "output_type": "display_data"
    }
   ],
   "source": [
    "# Create a meshgrid of points to plot the decision boundaries\n",
    "xx, yy = np.meshgrid(np.linspace(4, 8, 100), np.linspace(1.5, 4.5, 100))\n",
    "Z = svm_clf.predict(np.c_[xx.ravel(), yy.ravel()])\n",
    "Z = Z.reshape(xx.shape)\n",
    "# Plot the decision boundaries and the training points\n",
    "plt.contourf(xx, yy, Z, cmap=plt.cm.Paired, alpha=0.8)\n",
    "plt.scatter(X_train[:, 0], X_train[:, 1], c=y_train, cmap=plt.cm.Paired)\n",
    "plt.xlabel('Sepal length')\n",
    "plt.ylabel('Sepal width')\n",
    "plt.title('Linear SVM Decision Boundaries')\n",
    "plt.show()"
   ]
  },
  {
   "cell_type": "code",
   "execution_count": null,
   "id": "4e0774c8-07cb-43b5-a706-aaad994b1fed",
   "metadata": {},
   "outputs": [],
   "source": [
    "Finally, we can try different values of the regularisation parameter C and see how it affects\n",
    "the performance of the model:"
   ]
  },
  {
   "cell_type": "code",
   "execution_count": 6,
   "id": "147593ef-0667-46d2-b580-227758fd916c",
   "metadata": {},
   "outputs": [
    {
     "name": "stdout",
     "output_type": "stream",
     "text": [
      "C: 0.1 Accuracy: 0.8333333333333334\n",
      "C: 1 Accuracy: 0.9\n",
      "C: 10 Accuracy: 0.9\n"
     ]
    }
   ],
   "source": [
    "for C in [0.1, 1, 10]:\n",
    "    svm_clf = SVC(kernel=\"linear\", C=C)\n",
    "    svm_clf.fit(X_train, y_train)\n",
    "    y_pred = svm_clf.predict(X_test)\n",
    "    accuracy = accuracy_score(y_test, y_pred)\n",
    "    print(\"C:\", C, \"Accuracy:\", accuracy)"
   ]
  },
  {
   "cell_type": "code",
   "execution_count": null,
   "id": "6f0c6096-958a-4a92-9e20-d37a867d0c1e",
   "metadata": {},
   "outputs": [],
   "source": []
  },
  {
   "cell_type": "code",
   "execution_count": null,
   "id": "7fe9dec8-6b20-4d7f-8992-64ca3afd948e",
   "metadata": {},
   "outputs": [],
   "source": []
  },
  {
   "cell_type": "code",
   "execution_count": null,
   "id": "f15779f2-d99d-4eca-81b5-8363dbea344d",
   "metadata": {},
   "outputs": [],
   "source": []
  },
  {
   "cell_type": "code",
   "execution_count": null,
   "id": "d66e9204-989a-4c42-909e-0ceffb646097",
   "metadata": {},
   "outputs": [],
   "source": []
  },
  {
   "cell_type": "code",
   "execution_count": null,
   "id": "8240e94b-b7a3-4fde-a966-bb95e537be2a",
   "metadata": {},
   "outputs": [],
   "source": []
  },
  {
   "cell_type": "code",
   "execution_count": null,
   "id": "d44779d9-9a1a-4b03-b7bc-ad8f5251a09f",
   "metadata": {},
   "outputs": [],
   "source": []
  },
  {
   "cell_type": "code",
   "execution_count": null,
   "id": "ef97b616-f5fd-4675-8fdb-7e8d4e726ac2",
   "metadata": {},
   "outputs": [],
   "source": []
  },
  {
   "cell_type": "code",
   "execution_count": null,
   "id": "6d43eff4-431f-440b-a97a-3d76b7f7fa23",
   "metadata": {},
   "outputs": [],
   "source": []
  },
  {
   "cell_type": "code",
   "execution_count": null,
   "id": "248d19da-000f-4b73-8264-55b14ffae36a",
   "metadata": {},
   "outputs": [],
   "source": []
  },
  {
   "cell_type": "code",
   "execution_count": null,
   "id": "697ef853-1220-4626-bd2c-de773df4e0cd",
   "metadata": {},
   "outputs": [],
   "source": []
  },
  {
   "cell_type": "code",
   "execution_count": null,
   "id": "093d50ea-af7f-415f-b40b-ba7fda997313",
   "metadata": {},
   "outputs": [],
   "source": []
  },
  {
   "cell_type": "code",
   "execution_count": null,
   "id": "47ab8091-f097-438c-9287-d5388f9285f1",
   "metadata": {},
   "outputs": [],
   "source": []
  }
 ],
 "metadata": {
  "kernelspec": {
   "display_name": "Python 3 (ipykernel)",
   "language": "python",
   "name": "python3"
  },
  "language_info": {
   "codemirror_mode": {
    "name": "ipython",
    "version": 3
   },
   "file_extension": ".py",
   "mimetype": "text/x-python",
   "name": "python",
   "nbconvert_exporter": "python",
   "pygments_lexer": "ipython3",
   "version": "3.10.8"
  }
 },
 "nbformat": 4,
 "nbformat_minor": 5
}
